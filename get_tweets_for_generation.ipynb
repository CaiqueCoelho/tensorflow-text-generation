{
 "cells": [
  {
   "cell_type": "code",
   "execution_count": 1,
   "metadata": {},
   "outputs": [
    {
     "name": "stdout",
     "output_type": "stream",
     "text": [
      "now = 2021-06-13 18:56:29.602846\n",
      "date and time = 13/06/2021 18:56:29\n"
     ]
    }
   ],
   "source": [
    "from datetime import datetime\n",
    "\n",
    "# datetime object containing current date and time\n",
    "now = datetime.now()\n",
    " \n",
    "print(\"now =\", now)\n",
    "\n",
    "# dd/mm/YY H:M:S\n",
    "dt_string = now.strftime(\"%d/%m/%Y %H:%M:%S\")\n",
    "print(\"date and time =\", dt_string)"
   ]
  },
  {
   "cell_type": "code",
   "execution_count": 1,
   "metadata": {},
   "outputs": [],
   "source": [
    "import tweepy\n",
    "import csv\n",
    "from tweepy import OAuthHandler\n",
    "import json\n",
    "import datetime\n",
    "\n",
    "consumer_key = ''\n",
    "consumer_secret = ''\n",
    "access_token = ''\n",
    "access_token_secret = ''\n",
    "\n",
    "auth = OAuthHandler(consumer_key, consumer_secret)\n",
    "auth.set_access_token(access_token, access_token_secret)\n",
    "api = tweepy.API(auth, wait_on_rate_limit=False)"
   ]
  },
  {
   "cell_type": "code",
   "execution_count": 6,
   "metadata": {},
   "outputs": [],
   "source": [
    "def get_tweets(screen_name):\n",
    "        startDate = datetime.datetime(2020, 1, 1, 0, 0, 0)\n",
    "        tweets = []\n",
    "        tweets_created_at = []\n",
    "        tweets_user_mentions_id = []\n",
    "        tweet_user_mentions_name = []\n",
    "        favorite_count = {}\n",
    "        retweet_count = {}\n",
    "        \n",
    "        try:\n",
    "            for tweet in tweepy.Cursor(api.user_timeline, screen_name=screen_name, include_rts=False, tweet_mode = 'extended').items():\n",
    "                if tweet.created_at > startDate:\n",
    "                    tweet = json.dumps(tweet._json)\n",
    "                    tweet = json.loads(tweet)\n",
    "                    tweets_created_at.append(tweet['created_at'])\n",
    "                    tweets.append(tweet['full_text'].replace('\\n', ' '))\n",
    "                    favorite_count[tweet['id_str']] = (tweet['favorite_count'], tweet['full_text'])\n",
    "                    retweet_count[tweet['id_str']] = (tweet['retweet_count'], tweet['full_text'])\n",
    "                    for user in tweet['entities']['user_mentions']:\n",
    "                        tweets_user_mentions_id.append(user['id_str'])\n",
    "                        tweet_user_mentions_name.append(user['name'])\n",
    "                else:\n",
    "                    break\n",
    "            return tweets, tweets_created_at, tweets_user_mentions_id, tweet_user_mentions_name, favorite_count, retweet_count\n",
    "        except Exception as e:\n",
    "            print(\"Error : \" + str(e))"
   ]
  },
  {
   "cell_type": "code",
   "execution_count": 11,
   "metadata": {},
   "outputs": [],
   "source": [
    "tweets, tweets_created_at, tweets_user_mentions_id, tweet_user_mentions_name, favorite_count, retweet_count = get_tweets(screen_name = 'caiqueocoelho')"
   ]
  },
  {
   "cell_type": "code",
   "execution_count": 12,
   "metadata": {},
   "outputs": [
    {
     "data": {
      "text/plain": [
       "2309"
      ]
     },
     "execution_count": 12,
     "metadata": {},
     "output_type": "execute_result"
    }
   ],
   "source": [
    "len(tweets)"
   ]
  },
  {
   "cell_type": "code",
   "execution_count": 2,
   "metadata": {},
   "outputs": [],
   "source": [
    "def give_emoji_free_text(text):\n",
    "        allchars = [str for str in text]\n",
    "        emoji_list = [c for c in allchars if c in emoji.UNICODE_EMOJI]\n",
    "        clean_text = ' '.join(\n",
    "            [str for str in text.split() if not any(i in str for i in emoji_list)])\n",
    "\n",
    "        return clean_text\n",
    "\n",
    "def clean_tweet(tweet):\n",
    "\n",
    "        text = ' '.join(\n",
    "            re.sub(\"(@[A-Za-z0-9]+)\", \" \", tweet).split())\n",
    "\n",
    "        '''\n",
    "        emoji_pattern = re.compile(\"[\"\n",
    "        u\"\\U0001F600-\\U0001F64F\"  # emoticons\n",
    "        u\"\\U0001F300-\\U0001F5FF\"  # symbols & pictographs\n",
    "        u\"\\U0001F680-\\U0001F6FF\"  # transport & map symbols\n",
    "        u\"\\U0001F1E0-\\U0001F1FF\"  # flags (iOS)\n",
    "        u\"\\U0001F1F2-\\U0001F1F4\"  # Macau flag\n",
    "        u\"\\U0001F1E6-\\U0001F1FF\"  # flags\n",
    "        u\"\\U0001F600-\\U0001F64F\"\n",
    "        u\"\\U00002702-\\U000027B0\"\n",
    "        u\"\\U000024C2-\\U0001F251\"\n",
    "        u\"\\U0001f926-\\U0001f937\"\n",
    "        u\"\\U0001F1F2\"\n",
    "        u\"\\U0001F1F4\"\n",
    "        u\"\\U0001F620\"\n",
    "        u\"\\u200d\"\n",
    "        u\"\\u2640-\\u2642\"\n",
    "        \"]+\", flags=re.UNICODE)\n",
    "\n",
    "        text = emoji_pattern.sub(r'', text)\n",
    "        '''\n",
    "\n",
    "        text = give_emoji_free_text(text)\n",
    "        \n",
    "        text = re.sub(r'http\\S+', '', text)\n",
    "        text = re.sub(r'www\\S+', '', text)\n",
    "\n",
    "        return text"
   ]
  },
  {
   "cell_type": "code",
   "execution_count": 59,
   "metadata": {},
   "outputs": [],
   "source": [
    "a = ['@retrott2020 o meu não tá indo, diz que deu erro https://www.globo.com/ www.globo.com/ http://www.globo.com/',]"
   ]
  },
  {
   "cell_type": "code",
   "execution_count": 62,
   "metadata": {},
   "outputs": [],
   "source": [
    "import re\n",
    "new_tweets = []\n",
    "for item in tweets:\n",
    "    new_tweets.append(clean_tweet(tweet))"
   ]
  },
  {
   "cell_type": "code",
   "execution_count": 63,
   "metadata": {},
   "outputs": [],
   "source": [
    "with open('caique_new_tweets.txt', 'w') as f:\n",
    "    for item in new_tweets:\n",
    "        f.write(\"%s\\n\" % item)"
   ]
  }
 ],
 "metadata": {
  "kernelspec": {
   "display_name": "Python 3",
   "language": "python",
   "name": "python3"
  },
  "language_info": {
   "codemirror_mode": {
    "name": "ipython",
    "version": 3
   },
   "file_extension": ".py",
   "mimetype": "text/x-python",
   "name": "python",
   "nbconvert_exporter": "python",
   "pygments_lexer": "ipython3",
   "version": "3.8.5"
  }
 },
 "nbformat": 4,
 "nbformat_minor": 4
}
